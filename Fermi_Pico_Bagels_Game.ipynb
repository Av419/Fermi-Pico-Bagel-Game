{
  "nbformat": 4,
  "nbformat_minor": 0,
  "metadata": {
    "colab": {
      "provenance": [],
      "authorship_tag": "ABX9TyMIk/alOWK6iVAEOwcIgtaU",
      "include_colab_link": true
    },
    "kernelspec": {
      "name": "python3",
      "display_name": "Python 3"
    },
    "language_info": {
      "name": "python"
    }
  },
  "cells": [
    {
      "cell_type": "markdown",
      "metadata": {
        "id": "view-in-github",
        "colab_type": "text"
      },
      "source": [
        "<a href=\"https://colab.research.google.com/github/Av419/Fermi-Pico-Bagel-Game/blob/main/Fermi_Pico_Bagels_Game.ipynb\" target=\"_parent\"><img src=\"https://colab.research.google.com/assets/colab-badge.svg\" alt=\"Open In Colab\"/></a>"
      ]
    },
    {
      "cell_type": "markdown",
      "source": [
        "## Devloping a number guess game using Python functions and loops !!"
      ],
      "metadata": {
        "id": "STaG21rZD7Yk"
      }
    },
    {
      "cell_type": "markdown",
      "source": [
        "## Step 1: Create a variable which stores original number in string format"
      ],
      "metadata": {
        "id": "CVs30UkrULBU"
      }
    },
    {
      "cell_type": "code",
      "source": [
        "original_number = \"123\""
      ],
      "metadata": {
        "id": "HxW0wesmEiu5"
      },
      "execution_count": 1,
      "outputs": []
    },
    {
      "cell_type": "markdown",
      "source": [
        "## Step 2: Creating another variable for guess number"
      ],
      "metadata": {
        "id": "MuMgdYNPUsDU"
      }
    },
    {
      "cell_type": "code",
      "source": [
        "guess_number = input(\" Guess any number : \")"
      ],
      "metadata": {
        "colab": {
          "base_uri": "https://localhost:8080/"
        },
        "id": "hNXL1QFlU68M",
        "outputId": "37aaadcd-ac70-4c6b-8fc7-0c37f16fe17e"
      },
      "execution_count": 4,
      "outputs": [
        {
          "name": "stdout",
          "output_type": "stream",
          "text": [
            " Guess any number : 3232\n"
          ]
        }
      ]
    },
    {
      "cell_type": "markdown",
      "source": [
        "##  Step 3: Check both variables length"
      ],
      "metadata": {
        "id": "aVVz_xR4V7oJ"
      }
    },
    {
      "cell_type": "code",
      "source": [
        "if len(original_number)!= len(guess_number):\n",
        "  print(\"Enter a \"+ str(len(original_number)) + \" digit number\")"
      ],
      "metadata": {
        "colab": {
          "base_uri": "https://localhost:8080/"
        },
        "id": "-wmnQVu1WAAd",
        "outputId": "2281e1e8-8daa-460b-fa86-409ca5555481"
      },
      "execution_count": 6,
      "outputs": [
        {
          "output_type": "stream",
          "name": "stdout",
          "text": [
            "Enter a 3 digit number\n"
          ]
        }
      ]
    },
    {
      "cell_type": "markdown",
      "source": [
        "## Step 4: Using set() check if there is a duplicate number in guess variable"
      ],
      "metadata": {
        "id": "1gLWjvK3WnqO"
      }
    },
    {
      "cell_type": "code",
      "source": [
        "if len(original_number)!= len(set(guess_number)):\n",
        "  print(\"Duplicate Number\")"
      ],
      "metadata": {
        "colab": {
          "base_uri": "https://localhost:8080/"
        },
        "id": "XjLb8IE0W6ZA",
        "outputId": "3ed4679d-d500-4bf6-e0ef-99e51883bae2"
      },
      "execution_count": 7,
      "outputs": [
        {
          "output_type": "stream",
          "name": "stdout",
          "text": [
            "Duplicate Number\n"
          ]
        }
      ]
    },
    {
      "cell_type": "markdown",
      "source": [
        "## Step 5: Check winning conditions"
      ],
      "metadata": {
        "id": "b0V4wd0fXWBu"
      }
    },
    {
      "cell_type": "code",
      "source": [
        "if original_number == guess_number :\n",
        "  print(\"You Win !! \")\n",
        "  print(\"Fermi\" * len(original_number))"
      ],
      "metadata": {
        "id": "EZLwQ7Q2XgSc"
      },
      "execution_count": null,
      "outputs": []
    },
    {
      "cell_type": "markdown",
      "source": [
        "## Step 6: Create an empty list"
      ],
      "metadata": {
        "id": "fccbWey9X_5d"
      }
    },
    {
      "cell_type": "code",
      "source": [
        "output = []"
      ],
      "metadata": {
        "id": "rzNu53gFYY52"
      },
      "execution_count": 9,
      "outputs": []
    },
    {
      "cell_type": "markdown",
      "source": [
        "## Step 7: Check the position of the numbers"
      ],
      "metadata": {
        "id": "ck7U1JcZYc88"
      }
    },
    {
      "cell_type": "code",
      "source": [
        "for i in range(len(original_number)):\n",
        "    for j in range(len(guess_number)):\n",
        "        if original_number[i]==guess_number[j]:\n",
        "            if i==j:\n",
        "                output.append(\"Fermi\")\n",
        "            else :\n",
        "                output.append(\"Pico\")"
      ],
      "metadata": {
        "id": "A6lw62KwYw9b"
      },
      "execution_count": 10,
      "outputs": []
    },
    {
      "cell_type": "markdown",
      "source": [
        "## Step 8: Define a variable called output string"
      ],
      "metadata": {
        "id": "DDbgBjACZJj_"
      }
    },
    {
      "cell_type": "code",
      "source": [
        "output_string = \" \"\n",
        "for item in output:\n",
        "    output_string = output_string + \" \" + item\n",
        "\n",
        "print(output_string)"
      ],
      "metadata": {
        "colab": {
          "base_uri": "https://localhost:8080/"
        },
        "id": "QRMXGLXaZTTZ",
        "outputId": "8da633a1-2485-40a9-83e0-520a4d0059b9"
      },
      "execution_count": 11,
      "outputs": [
        {
          "output_type": "stream",
          "name": "stdout",
          "text": [
            "  Fermi Pico Pico Fermi\n"
          ]
        }
      ]
    },
    {
      "cell_type": "markdown",
      "source": [
        "## Step 9: Check if neigther any digit nor any position matches"
      ],
      "metadata": {
        "id": "P37AssshZeZm"
      }
    },
    {
      "cell_type": "code",
      "source": [
        "if len(output)==0:\n",
        "    print(\"Bagel\")\n",
        "else:\n",
        "    print(\"output_string\")"
      ],
      "metadata": {
        "colab": {
          "base_uri": "https://localhost:8080/"
        },
        "id": "UMJdNb_rZoyD",
        "outputId": "da619f24-4c4d-4a77-a5bc-c7c546488a88"
      },
      "execution_count": 12,
      "outputs": [
        {
          "output_type": "stream",
          "name": "stdout",
          "text": [
            "output_string\n"
          ]
        }
      ]
    },
    {
      "cell_type": "markdown",
      "source": [
        "## Step 10: Summing up the code (Complete Game)\n",
        "\n"
      ],
      "metadata": {
        "id": "9dnckaxbaMU9"
      }
    },
    {
      "cell_type": "code",
      "source": [
        "original_number = '5489'  #You can write any number\n",
        "\n",
        "while True :\n",
        "    output = []\n",
        "    guess_number = input('\\nGuess the number: ')\n",
        "\n",
        "    if len((guess_number)) != len(original_number):\n",
        "        print(f'Enter {len(original_number)} digit number')\n",
        "        continue\n",
        "\n",
        "    if len(guess_number)  != len(set(guess_number)):\n",
        "        print('Duplicate number')\n",
        "        continue\n",
        "\n",
        "    if (int(guess_number) - int(original_number)) == 0 :\n",
        "        print(' Fermi '*len(original_number))\n",
        "        print('\\nYou won !!')\n",
        "        break\n",
        "\n",
        "    for i in range(len(original_number)):\n",
        "        for j in range(len(guess_number)):\n",
        "            if original_number[i] == guess_number[j]:\n",
        "                if i == j:\n",
        "                    output.append('Fermi')\n",
        "                else:\n",
        "                    output.append('Pico')\n",
        "\n",
        "    output_string = ''\n",
        "    for item in output :\n",
        "        output_string = output_string + ' ' + item\n",
        "\n",
        "\n",
        "    if len(output) == 0:\n",
        "        print(' Bagels')\n",
        "    else:\n",
        "      print(output_string)"
      ],
      "metadata": {
        "colab": {
          "base_uri": "https://localhost:8080/"
        },
        "id": "2IsFLu-baQm0",
        "outputId": "828522e1-c456-4dbd-ab95-914c91d1bb93"
      },
      "execution_count": 13,
      "outputs": [
        {
          "output_type": "stream",
          "name": "stdout",
          "text": [
            "\n",
            "Guess the number: 123\n",
            "Enter 4 digit number\n",
            "\n",
            "Guess the number: 5489\n",
            " Fermi  Fermi  Fermi  Fermi \n",
            "\n",
            "You won !!\n"
          ]
        }
      ]
    }
  ]
}